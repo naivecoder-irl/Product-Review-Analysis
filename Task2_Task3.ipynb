{
 "cells": [
  {
   "cell_type": "markdown",
   "metadata": {},
   "source": [
    "## Task 2 & Task 3"
   ]
  },
  {
   "cell_type": "markdown",
   "metadata": {},
   "source": [
    "### Task 2 Review Sentiment Classification"
   ]
  },
  {
   "cell_type": "markdown",
   "metadata": {},
   "source": [
    "In Task 2, using data collected in Task 1 to perform the classification of positive/negative."
   ]
  },
  {
   "cell_type": "code",
   "execution_count": 79,
   "metadata": {},
   "outputs": [],
   "source": [
    "import pandas as pd\n",
    "from sklearn.feature_extraction.text import TfidfVectorizer, CountVectorizer\n",
    "from nltk.stem import WordNetLemmatizer\n",
    "from sklearn.svm import SVC\n",
    "import re\n",
    "from sklearn.neighbors import KNeighborsClassifier\n",
    "from sklearn.linear_model import SGDClassifier\n",
    "from sklearn.metrics import accuracy_score, precision_score, recall_score, f1_score\n",
    "from sklearn.metrics import classification_report, confusion_matrix, ConfusionMatrixDisplay\n",
    "from sklearn.model_selection import cross_val_score, RepeatedKFold, train_test_split\n",
    "%matplotlib inline"
   ]
  },
  {
   "cell_type": "markdown",
   "metadata": {},
   "source": [
    "##### Data Loading"
   ]
  },
  {
   "cell_type": "code",
   "execution_count": 80,
   "metadata": {},
   "outputs": [
    {
     "data": {
      "text/html": [
       "<div>\n",
       "<style scoped>\n",
       "    .dataframe tbody tr th:only-of-type {\n",
       "        vertical-align: middle;\n",
       "    }\n",
       "\n",
       "    .dataframe tbody tr th {\n",
       "        vertical-align: top;\n",
       "    }\n",
       "\n",
       "    .dataframe thead th {\n",
       "        text-align: right;\n",
       "    }\n",
       "</style>\n",
       "<table border=\"1\" class=\"dataframe\">\n",
       "  <thead>\n",
       "    <tr style=\"text-align: right;\">\n",
       "      <th></th>\n",
       "      <th>title</th>\n",
       "      <th>body</th>\n",
       "      <th>rating</th>\n",
       "      <th>helpful_user_num</th>\n",
       "      <th>total_user_num</th>\n",
       "    </tr>\n",
       "  </thead>\n",
       "  <tbody>\n",
       "    <tr>\n",
       "      <th>0</th>\n",
       "      <td>The herbs were great...but the cherry tomatoes...</td>\n",
       "      <td>The herb kit that came with my Aerogarden was ...</td>\n",
       "      <td>2</td>\n",
       "      <td>15</td>\n",
       "      <td>17</td>\n",
       "    </tr>\n",
       "    <tr>\n",
       "      <th>1</th>\n",
       "      <td>Even more useful than regular parchment paper</td>\n",
       "      <td>I originally bought this just because it was c...</td>\n",
       "      <td>5</td>\n",
       "      <td>19</td>\n",
       "      <td>19</td>\n",
       "    </tr>\n",
       "    <tr>\n",
       "      <th>2</th>\n",
       "      <td>Shake it before you bake it</td>\n",
       "      <td>If you do it in reverse (bake before shaking),...</td>\n",
       "      <td>2</td>\n",
       "      <td>2</td>\n",
       "      <td>13</td>\n",
       "    </tr>\n",
       "    <tr>\n",
       "      <th>3</th>\n",
       "      <td>Not what the picture describes</td>\n",
       "      <td>I bought this steak for my father in law for C...</td>\n",
       "      <td>2</td>\n",
       "      <td>7</td>\n",
       "      <td>14</td>\n",
       "    </tr>\n",
       "    <tr>\n",
       "      <th>4</th>\n",
       "      <td>What a ripe off - GIVE ME A BREAK</td>\n",
       "      <td>Sorry but I had these noodles and they are no ...</td>\n",
       "      <td>2</td>\n",
       "      <td>10</td>\n",
       "      <td>34</td>\n",
       "    </tr>\n",
       "  </tbody>\n",
       "</table>\n",
       "</div>"
      ],
      "text/plain": [
       "                                               title  \\\n",
       "0  The herbs were great...but the cherry tomatoes...   \n",
       "1      Even more useful than regular parchment paper   \n",
       "2                        Shake it before you bake it   \n",
       "3                     Not what the picture describes   \n",
       "4                  What a ripe off - GIVE ME A BREAK   \n",
       "\n",
       "                                                body  rating  \\\n",
       "0  The herb kit that came with my Aerogarden was ...       2   \n",
       "1  I originally bought this just because it was c...       5   \n",
       "2  If you do it in reverse (bake before shaking),...       2   \n",
       "3  I bought this steak for my father in law for C...       2   \n",
       "4  Sorry but I had these noodles and they are no ...       2   \n",
       "\n",
       "   helpful_user_num  total_user_num  \n",
       "0                15              17  \n",
       "1                19              19  \n",
       "2                 2              13  \n",
       "3                 7              14  \n",
       "4                10              34  "
      ]
     },
     "execution_count": 80,
     "metadata": {},
     "output_type": "execute_result"
    }
   ],
   "source": [
    "df = pd.read_csv('dataset.csv')\n",
    "df.head(5)"
   ]
  },
  {
   "cell_type": "markdown",
   "metadata": {},
   "source": [
    "##### Data Verification\n",
    "\n",
    "Detect whether there is a null value"
   ]
  },
  {
   "cell_type": "code",
   "execution_count": 81,
   "metadata": {},
   "outputs": [
    {
     "data": {
      "text/plain": [
       "False"
      ]
     },
     "execution_count": 81,
     "metadata": {},
     "output_type": "execute_result"
    }
   ],
   "source": [
    "df.isnull().values.any()"
   ]
  },
  {
   "cell_type": "markdown",
   "metadata": {},
   "source": [
    "Assign label (“positive” or “negative”) to each review. \n",
    "\n",
    "1-star to 3-star: “negative” \n",
    "4-star to 5-star: “positive” "
   ]
  },
  {
   "cell_type": "code",
   "execution_count": 82,
   "metadata": {},
   "outputs": [
    {
     "data": {
      "text/html": [
       "<div>\n",
       "<style scoped>\n",
       "    .dataframe tbody tr th:only-of-type {\n",
       "        vertical-align: middle;\n",
       "    }\n",
       "\n",
       "    .dataframe tbody tr th {\n",
       "        vertical-align: top;\n",
       "    }\n",
       "\n",
       "    .dataframe thead th {\n",
       "        text-align: right;\n",
       "    }\n",
       "</style>\n",
       "<table border=\"1\" class=\"dataframe\">\n",
       "  <thead>\n",
       "    <tr style=\"text-align: right;\">\n",
       "      <th></th>\n",
       "      <th>title</th>\n",
       "      <th>body</th>\n",
       "      <th>rating</th>\n",
       "      <th>helpful_user_num</th>\n",
       "      <th>total_user_num</th>\n",
       "      <th>is_positive</th>\n",
       "    </tr>\n",
       "  </thead>\n",
       "  <tbody>\n",
       "    <tr>\n",
       "      <th>0</th>\n",
       "      <td>The herbs were great...but the cherry tomatoes...</td>\n",
       "      <td>The herb kit that came with my Aerogarden was ...</td>\n",
       "      <td>2</td>\n",
       "      <td>15</td>\n",
       "      <td>17</td>\n",
       "      <td>negative</td>\n",
       "    </tr>\n",
       "    <tr>\n",
       "      <th>1</th>\n",
       "      <td>Even more useful than regular parchment paper</td>\n",
       "      <td>I originally bought this just because it was c...</td>\n",
       "      <td>5</td>\n",
       "      <td>19</td>\n",
       "      <td>19</td>\n",
       "      <td>positive</td>\n",
       "    </tr>\n",
       "    <tr>\n",
       "      <th>2</th>\n",
       "      <td>Shake it before you bake it</td>\n",
       "      <td>If you do it in reverse (bake before shaking),...</td>\n",
       "      <td>2</td>\n",
       "      <td>2</td>\n",
       "      <td>13</td>\n",
       "      <td>negative</td>\n",
       "    </tr>\n",
       "    <tr>\n",
       "      <th>3</th>\n",
       "      <td>Not what the picture describes</td>\n",
       "      <td>I bought this steak for my father in law for C...</td>\n",
       "      <td>2</td>\n",
       "      <td>7</td>\n",
       "      <td>14</td>\n",
       "      <td>negative</td>\n",
       "    </tr>\n",
       "    <tr>\n",
       "      <th>4</th>\n",
       "      <td>What a ripe off - GIVE ME A BREAK</td>\n",
       "      <td>Sorry but I had these noodles and they are no ...</td>\n",
       "      <td>2</td>\n",
       "      <td>10</td>\n",
       "      <td>34</td>\n",
       "      <td>negative</td>\n",
       "    </tr>\n",
       "  </tbody>\n",
       "</table>\n",
       "</div>"
      ],
      "text/plain": [
       "                                               title  \\\n",
       "0  The herbs were great...but the cherry tomatoes...   \n",
       "1      Even more useful than regular parchment paper   \n",
       "2                        Shake it before you bake it   \n",
       "3                     Not what the picture describes   \n",
       "4                  What a ripe off - GIVE ME A BREAK   \n",
       "\n",
       "                                                body  rating  \\\n",
       "0  The herb kit that came with my Aerogarden was ...       2   \n",
       "1  I originally bought this just because it was c...       5   \n",
       "2  If you do it in reverse (bake before shaking),...       2   \n",
       "3  I bought this steak for my father in law for C...       2   \n",
       "4  Sorry but I had these noodles and they are no ...       2   \n",
       "\n",
       "   helpful_user_num  total_user_num is_positive  \n",
       "0                15              17    negative  \n",
       "1                19              19    positive  \n",
       "2                 2              13    negative  \n",
       "3                 7              14    negative  \n",
       "4                10              34    negative  "
      ]
     },
     "execution_count": 82,
     "metadata": {},
     "output_type": "execute_result"
    }
   ],
   "source": [
    "label = []\n",
    "for rating in df['rating']:\n",
    "    if(rating >= 4):\n",
    "        label.append('positive')\n",
    "    else:\n",
    "        label.append('negative')\n",
    "\n",
    "df['is_positive'] = label\n",
    "df.head(5)"
   ]
  },
  {
   "cell_type": "markdown",
   "metadata": {},
   "source": [
    "Concatenate review’s title and body text:\n"
   ]
  },
  {
   "cell_type": "code",
   "execution_count": 83,
   "metadata": {},
   "outputs": [
    {
     "data": {
      "text/html": [
       "<div>\n",
       "<style scoped>\n",
       "    .dataframe tbody tr th:only-of-type {\n",
       "        vertical-align: middle;\n",
       "    }\n",
       "\n",
       "    .dataframe tbody tr th {\n",
       "        vertical-align: top;\n",
       "    }\n",
       "\n",
       "    .dataframe thead th {\n",
       "        text-align: right;\n",
       "    }\n",
       "</style>\n",
       "<table border=\"1\" class=\"dataframe\">\n",
       "  <thead>\n",
       "    <tr style=\"text-align: right;\">\n",
       "      <th></th>\n",
       "      <th>title</th>\n",
       "      <th>body</th>\n",
       "      <th>rating</th>\n",
       "      <th>helpful_user_num</th>\n",
       "      <th>total_user_num</th>\n",
       "      <th>is_positive</th>\n",
       "      <th>review</th>\n",
       "    </tr>\n",
       "  </thead>\n",
       "  <tbody>\n",
       "    <tr>\n",
       "      <th>0</th>\n",
       "      <td>The herbs were great...but the cherry tomatoes...</td>\n",
       "      <td>The herb kit that came with my Aerogarden was ...</td>\n",
       "      <td>2</td>\n",
       "      <td>15</td>\n",
       "      <td>17</td>\n",
       "      <td>negative</td>\n",
       "      <td>The herbs were great...but the cherry tomatoes...</td>\n",
       "    </tr>\n",
       "    <tr>\n",
       "      <th>1</th>\n",
       "      <td>Even more useful than regular parchment paper</td>\n",
       "      <td>I originally bought this just because it was c...</td>\n",
       "      <td>5</td>\n",
       "      <td>19</td>\n",
       "      <td>19</td>\n",
       "      <td>positive</td>\n",
       "      <td>Even more useful than regular parchment paperI...</td>\n",
       "    </tr>\n",
       "    <tr>\n",
       "      <th>2</th>\n",
       "      <td>Shake it before you bake it</td>\n",
       "      <td>If you do it in reverse (bake before shaking),...</td>\n",
       "      <td>2</td>\n",
       "      <td>2</td>\n",
       "      <td>13</td>\n",
       "      <td>negative</td>\n",
       "      <td>Shake it before you bake itIf you do it in rev...</td>\n",
       "    </tr>\n",
       "    <tr>\n",
       "      <th>3</th>\n",
       "      <td>Not what the picture describes</td>\n",
       "      <td>I bought this steak for my father in law for C...</td>\n",
       "      <td>2</td>\n",
       "      <td>7</td>\n",
       "      <td>14</td>\n",
       "      <td>negative</td>\n",
       "      <td>Not what the picture describesI bought this st...</td>\n",
       "    </tr>\n",
       "    <tr>\n",
       "      <th>4</th>\n",
       "      <td>What a ripe off - GIVE ME A BREAK</td>\n",
       "      <td>Sorry but I had these noodles and they are no ...</td>\n",
       "      <td>2</td>\n",
       "      <td>10</td>\n",
       "      <td>34</td>\n",
       "      <td>negative</td>\n",
       "      <td>What a ripe off - GIVE ME A BREAKSorry but I h...</td>\n",
       "    </tr>\n",
       "  </tbody>\n",
       "</table>\n",
       "</div>"
      ],
      "text/plain": [
       "                                               title  \\\n",
       "0  The herbs were great...but the cherry tomatoes...   \n",
       "1      Even more useful than regular parchment paper   \n",
       "2                        Shake it before you bake it   \n",
       "3                     Not what the picture describes   \n",
       "4                  What a ripe off - GIVE ME A BREAK   \n",
       "\n",
       "                                                body  rating  \\\n",
       "0  The herb kit that came with my Aerogarden was ...       2   \n",
       "1  I originally bought this just because it was c...       5   \n",
       "2  If you do it in reverse (bake before shaking),...       2   \n",
       "3  I bought this steak for my father in law for C...       2   \n",
       "4  Sorry but I had these noodles and they are no ...       2   \n",
       "\n",
       "   helpful_user_num  total_user_num is_positive  \\\n",
       "0                15              17    negative   \n",
       "1                19              19    positive   \n",
       "2                 2              13    negative   \n",
       "3                 7              14    negative   \n",
       "4                10              34    negative   \n",
       "\n",
       "                                              review  \n",
       "0  The herbs were great...but the cherry tomatoes...  \n",
       "1  Even more useful than regular parchment paperI...  \n",
       "2  Shake it before you bake itIf you do it in rev...  \n",
       "3  Not what the picture describesI bought this st...  \n",
       "4  What a ripe off - GIVE ME A BREAKSorry but I h...  "
      ]
     },
     "execution_count": 83,
     "metadata": {},
     "output_type": "execute_result"
    }
   ],
   "source": [
    "df['review'] = df['title'] + df['body']\n",
    "df.head(5)"
   ]
  },
  {
   "cell_type": "markdown",
   "metadata": {},
   "source": [
    "##### Data Preprocessing"
   ]
  },
  {
   "cell_type": "markdown",
   "metadata": {},
   "source": [
    "Text in the dataset may contain numbers, special characters, and unwanted spaces. Try to remove special characters, numbers, and unwanted spaces from our text. "
   ]
  },
  {
   "cell_type": "code",
   "execution_count": 84,
   "metadata": {},
   "outputs": [
    {
     "data": {
      "text/html": [
       "<div>\n",
       "<style scoped>\n",
       "    .dataframe tbody tr th:only-of-type {\n",
       "        vertical-align: middle;\n",
       "    }\n",
       "\n",
       "    .dataframe tbody tr th {\n",
       "        vertical-align: top;\n",
       "    }\n",
       "\n",
       "    .dataframe thead th {\n",
       "        text-align: right;\n",
       "    }\n",
       "</style>\n",
       "<table border=\"1\" class=\"dataframe\">\n",
       "  <thead>\n",
       "    <tr style=\"text-align: right;\">\n",
       "      <th></th>\n",
       "      <th>title</th>\n",
       "      <th>body</th>\n",
       "      <th>rating</th>\n",
       "      <th>helpful_user_num</th>\n",
       "      <th>total_user_num</th>\n",
       "      <th>is_positive</th>\n",
       "      <th>review</th>\n",
       "    </tr>\n",
       "  </thead>\n",
       "  <tbody>\n",
       "    <tr>\n",
       "      <th>0</th>\n",
       "      <td>The herbs were great...but the cherry tomatoes...</td>\n",
       "      <td>The herb kit that came with my Aerogarden was ...</td>\n",
       "      <td>2</td>\n",
       "      <td>15</td>\n",
       "      <td>17</td>\n",
       "      <td>negative</td>\n",
       "      <td>the herbs were greatbut the cherry tomatoesnot...</td>\n",
       "    </tr>\n",
       "    <tr>\n",
       "      <th>1</th>\n",
       "      <td>Even more useful than regular parchment paper</td>\n",
       "      <td>I originally bought this just because it was c...</td>\n",
       "      <td>5</td>\n",
       "      <td>19</td>\n",
       "      <td>19</td>\n",
       "      <td>positive</td>\n",
       "      <td>even more useful than regular parchment paperi...</td>\n",
       "    </tr>\n",
       "    <tr>\n",
       "      <th>2</th>\n",
       "      <td>Shake it before you bake it</td>\n",
       "      <td>If you do it in reverse (bake before shaking),...</td>\n",
       "      <td>2</td>\n",
       "      <td>2</td>\n",
       "      <td>13</td>\n",
       "      <td>negative</td>\n",
       "      <td>shake it before you bake itif you do it in rev...</td>\n",
       "    </tr>\n",
       "    <tr>\n",
       "      <th>3</th>\n",
       "      <td>Not what the picture describes</td>\n",
       "      <td>I bought this steak for my father in law for C...</td>\n",
       "      <td>2</td>\n",
       "      <td>7</td>\n",
       "      <td>14</td>\n",
       "      <td>negative</td>\n",
       "      <td>not what the picture describesi bought this st...</td>\n",
       "    </tr>\n",
       "    <tr>\n",
       "      <th>4</th>\n",
       "      <td>What a ripe off - GIVE ME A BREAK</td>\n",
       "      <td>Sorry but I had these noodles and they are no ...</td>\n",
       "      <td>2</td>\n",
       "      <td>10</td>\n",
       "      <td>34</td>\n",
       "      <td>negative</td>\n",
       "      <td>what a ripe off  give me a breaksorry but i ha...</td>\n",
       "    </tr>\n",
       "  </tbody>\n",
       "</table>\n",
       "</div>"
      ],
      "text/plain": [
       "                                               title  \\\n",
       "0  The herbs were great...but the cherry tomatoes...   \n",
       "1      Even more useful than regular parchment paper   \n",
       "2                        Shake it before you bake it   \n",
       "3                     Not what the picture describes   \n",
       "4                  What a ripe off - GIVE ME A BREAK   \n",
       "\n",
       "                                                body  rating  \\\n",
       "0  The herb kit that came with my Aerogarden was ...       2   \n",
       "1  I originally bought this just because it was c...       5   \n",
       "2  If you do it in reverse (bake before shaking),...       2   \n",
       "3  I bought this steak for my father in law for C...       2   \n",
       "4  Sorry but I had these noodles and they are no ...       2   \n",
       "\n",
       "   helpful_user_num  total_user_num is_positive  \\\n",
       "0                15              17    negative   \n",
       "1                19              19    positive   \n",
       "2                 2              13    negative   \n",
       "3                 7              14    negative   \n",
       "4                10              34    negative   \n",
       "\n",
       "                                              review  \n",
       "0  the herbs were greatbut the cherry tomatoesnot...  \n",
       "1  even more useful than regular parchment paperi...  \n",
       "2  shake it before you bake itif you do it in rev...  \n",
       "3  not what the picture describesi bought this st...  \n",
       "4  what a ripe off  give me a breaksorry but i ha...  "
      ]
     },
     "execution_count": 84,
     "metadata": {},
     "output_type": "execute_result"
    }
   ],
   "source": [
    "# convert all character to lowercase\n",
    "df['review'] = df['review'].str.lower()\n",
    "# get rid of leading or trailing white spaces\n",
    "df['review'] = df['review'].str.strip()\n",
    "# remove characters other than words\n",
    "df['review'].replace('[^\\w\\s]', '', regex=True, inplace=True)\n",
    "# Removing prefixed 'b'\n",
    "df['review'].replace('^b\\s+', '', regex=True, inplace=True)\n",
    "df.head(5)"
   ]
  },
  {
   "cell_type": "markdown",
   "metadata": {},
   "source": [
    "Define lemmatization method for further use"
   ]
  },
  {
   "cell_type": "code",
   "execution_count": 85,
   "metadata": {},
   "outputs": [],
   "source": [
    "def lemma_tokenizer(text):\n",
    "    # use the standard scikit-learn tokenizer first\n",
    "    standard_tokenizer = CountVectorizer().build_tokenizer()\n",
    "    tokens = standard_tokenizer(text)\n",
    "    # then use NLTK to perform lemmatisation on each token\n",
    "    lemmatizer = WordNetLemmatizer()\n",
    "    lemma_tokens = []\n",
    "    for token in tokens:\n",
    "        lemma_tokens.append(lemmatizer.lemmatize(token))\n",
    "    return lemma_tokens"
   ]
  },
  {
   "cell_type": "markdown",
   "metadata": {},
   "source": [
    "Create a new dataframe to store review and label for classification"
   ]
  },
  {
   "cell_type": "code",
   "execution_count": 86,
   "metadata": {},
   "outputs": [
    {
     "data": {
      "text/html": [
       "<div>\n",
       "<style scoped>\n",
       "    .dataframe tbody tr th:only-of-type {\n",
       "        vertical-align: middle;\n",
       "    }\n",
       "\n",
       "    .dataframe tbody tr th {\n",
       "        vertical-align: top;\n",
       "    }\n",
       "\n",
       "    .dataframe thead th {\n",
       "        text-align: right;\n",
       "    }\n",
       "</style>\n",
       "<table border=\"1\" class=\"dataframe\">\n",
       "  <thead>\n",
       "    <tr style=\"text-align: right;\">\n",
       "      <th></th>\n",
       "      <th>review</th>\n",
       "      <th>is_positive</th>\n",
       "    </tr>\n",
       "  </thead>\n",
       "  <tbody>\n",
       "    <tr>\n",
       "      <th>0</th>\n",
       "      <td>the herbs were greatbut the cherry tomatoesnot...</td>\n",
       "      <td>negative</td>\n",
       "    </tr>\n",
       "    <tr>\n",
       "      <th>1</th>\n",
       "      <td>even more useful than regular parchment paperi...</td>\n",
       "      <td>positive</td>\n",
       "    </tr>\n",
       "    <tr>\n",
       "      <th>2</th>\n",
       "      <td>shake it before you bake itif you do it in rev...</td>\n",
       "      <td>negative</td>\n",
       "    </tr>\n",
       "    <tr>\n",
       "      <th>3</th>\n",
       "      <td>not what the picture describesi bought this st...</td>\n",
       "      <td>negative</td>\n",
       "    </tr>\n",
       "    <tr>\n",
       "      <th>4</th>\n",
       "      <td>what a ripe off  give me a breaksorry but i ha...</td>\n",
       "      <td>negative</td>\n",
       "    </tr>\n",
       "  </tbody>\n",
       "</table>\n",
       "</div>"
      ],
      "text/plain": [
       "                                              review is_positive\n",
       "0  the herbs were greatbut the cherry tomatoesnot...    negative\n",
       "1  even more useful than regular parchment paperi...    positive\n",
       "2  shake it before you bake itif you do it in rev...    negative\n",
       "3  not what the picture describesi bought this st...    negative\n",
       "4  what a ripe off  give me a breaksorry but i ha...    negative"
      ]
     },
     "execution_count": 86,
     "metadata": {},
     "output_type": "execute_result"
    }
   ],
   "source": [
    "df_review = df[['review', 'is_positive']].copy()\n",
    "df_review.head(5)"
   ]
  },
  {
   "cell_type": "markdown",
   "metadata": {},
   "source": [
    "Split the dataset to a training set and testing set (33%) for further evaluation."
   ]
  },
  {
   "cell_type": "code",
   "execution_count": 87,
   "metadata": {},
   "outputs": [],
   "source": [
    "train, test = train_test_split(df_review, test_size=0.33)"
   ]
  },
  {
   "cell_type": "markdown",
   "metadata": {},
   "source": [
    "Set the data and target part for the dataset."
   ]
  },
  {
   "cell_type": "code",
   "execution_count": 88,
   "metadata": {},
   "outputs": [],
   "source": [
    "data_train, target_train = train['review'], train['is_positive']\n",
    "data_test, target_test = test['review'], test['is_positive']"
   ]
  },
  {
   "cell_type": "markdown",
   "metadata": {},
   "source": [
    "Using bag of words (BOW) method: TF-IDF. Produce vector representations of the documents, since we care about the frequency of the words in text reviews"
   ]
  },
  {
   "cell_type": "code",
   "execution_count": 89,
   "metadata": {},
   "outputs": [
    {
     "name": "stderr",
     "output_type": "stream",
     "text": [
      "c:\\Users\\Steve\\anaconda3\\envs\\comp47670\\lib\\site-packages\\sklearn\\feature_extraction\\text.py:396: UserWarning: Your stop_words may be inconsistent with your preprocessing. Tokenizing the stop words generated tokens ['ha', 'le', 'u', 'wa'] not in stop_words.\n",
      "  warnings.warn(\n"
     ]
    }
   ],
   "source": [
    "vectorizer = TfidfVectorizer(stop_words=\"english\", tokenizer=lemma_tokenizer)\n",
    "data_train = vectorizer.fit_transform(data_train)\n",
    "data_test = vectorizer.transform(data_test)"
   ]
  },
  {
   "cell_type": "code",
   "execution_count": 90,
   "metadata": {},
   "outputs": [
    {
     "name": "stdout",
     "output_type": "stream",
     "text": [
      "Training set has 6193 examples\n",
      "Test set has 3051 examples\n"
     ]
    }
   ],
   "source": [
    "print(\"Training set has %d examples\" % data_train.shape[0] )\n",
    "print(\"Test set has %d examples\" % data_test.shape[0] )"
   ]
  },
  {
   "cell_type": "markdown",
   "metadata": {},
   "source": [
    "#### 1. k-NN classification"
   ]
  },
  {
   "cell_type": "markdown",
   "metadata": {},
   "source": [
    "Prepare the k-NN classification model, for 3 nearest neighbours in this case:"
   ]
  },
  {
   "cell_type": "code",
   "execution_count": 91,
   "metadata": {},
   "outputs": [
    {
     "data": {
      "text/plain": [
       "KNeighborsClassifier(n_neighbors=3)"
      ]
     },
     "execution_count": 91,
     "metadata": {},
     "output_type": "execute_result"
    }
   ],
   "source": [
    "model = KNeighborsClassifier(n_neighbors=3)\n",
    "model.fit(data_train, target_train)"
   ]
  },
  {
   "cell_type": "markdown",
   "metadata": {},
   "source": [
    "Make predictions for reviews in the test set."
   ]
  },
  {
   "cell_type": "code",
   "execution_count": 92,
   "metadata": {},
   "outputs": [
    {
     "data": {
      "text/plain": [
       "array(['negative', 'positive', 'negative', ..., 'negative', 'positive',\n",
       "       'negative'], dtype=object)"
      ]
     },
     "execution_count": 92,
     "metadata": {},
     "output_type": "execute_result"
    }
   ],
   "source": [
    "predicted = model.predict(data_test)\n",
    "predicted"
   ]
  },
  {
   "cell_type": "code",
   "execution_count": 93,
   "metadata": {},
   "outputs": [
    {
     "name": "stdout",
     "output_type": "stream",
     "text": [
      "k-NN's Accuracy = 0.7211\n"
     ]
    }
   ],
   "source": [
    "print(\"k-NN's Accuracy = %.4f\" % accuracy_score(target_test, predicted))"
   ]
  },
  {
   "cell_type": "markdown",
   "metadata": {},
   "source": [
    "Visualize the confusion matrix to see where the errors lie:"
   ]
  },
  {
   "cell_type": "code",
   "execution_count": 94,
   "metadata": {},
   "outputs": [
    {
     "data": {
      "image/png": "[encoded data removed]",
      "text/plain": [
       "<Figure size 432x288 with 2 Axes>"
      ]
     },
     "metadata": {
      "needs_background": "light"
     },
     "output_type": "display_data"
    }
   ],
   "source": [
    "# calculate the matrix \n",
    "cm = confusion_matrix(target_test, predicted, labels=['positive', 'negative'])\n",
    "# display it graphically\n",
    "cmd = ConfusionMatrixDisplay(cm, display_labels=['positive', 'negative'])\n",
    "cmd.plot();"
   ]
  },
  {
   "cell_type": "markdown",
   "metadata": {},
   "source": [
    "The scale of false positive is greater than false negative."
   ]
  },
  {
   "cell_type": "markdown",
   "metadata": {},
   "source": [
    "Invoke *classification_report()* function for summarising all evaluation metrics."
   ]
  },
  {
   "cell_type": "code",
   "execution_count": 95,
   "metadata": {},
   "outputs": [
    {
     "name": "stdout",
     "output_type": "stream",
     "text": [
      "K-NN scores: \n",
      "\n",
      "              precision    recall  f1-score   support\n",
      "\n",
      "    positive       0.73      0.60      0.66      1364\n",
      "    negative       0.72      0.82      0.76      1687\n",
      "\n",
      "    accuracy                           0.72      3051\n",
      "   macro avg       0.72      0.71      0.71      3051\n",
      "weighted avg       0.72      0.72      0.72      3051\n",
      "\n"
     ]
    }
   ],
   "source": [
    "print(\"K-NN scores: \\n\")\n",
    "print(classification_report(target_test, predicted, target_names=['positive', 'negative']))"
   ]
  },
  {
   "cell_type": "markdown",
   "metadata": {},
   "source": [
    "Using *k-fold cross-validation* to evaluate."
   ]
  },
  {
   "cell_type": "code",
   "execution_count": 96,
   "metadata": {},
   "outputs": [],
   "source": [
    "rkf = RepeatedKFold(n_splits=5, n_repeats=10)\n",
    "# note that we pass RepeatedKFold as the parameter cv\n",
    "\n",
    "documents = df_review['review']\n",
    "X = vectorizer.fit_transform(documents)\n",
    "# Class labels for all documents\n",
    "target = df_review['is_positive']\n",
    "repeated_acc_scores = cross_val_score(model, X, target, cv=rkf, scoring=\"accuracy\")"
   ]
  },
  {
   "cell_type": "code",
   "execution_count": 97,
   "metadata": {},
   "outputs": [
    {
     "data": {
      "text/plain": [
       "0     0.730665\n",
       "1     0.724175\n",
       "2     0.742564\n",
       "3     0.733369\n",
       "4     0.748377\n",
       "5     0.746349\n",
       "6     0.733369\n",
       "7     0.735533\n",
       "8     0.730665\n",
       "9     0.728355\n",
       "10    0.734451\n",
       "11    0.731206\n",
       "12    0.733910\n",
       "13    0.735533\n",
       "14    0.740260\n",
       "15    0.729043\n",
       "16    0.749054\n",
       "17    0.726339\n",
       "18    0.730124\n",
       "19    0.740801\n",
       "dtype: float64"
      ]
     },
     "execution_count": 97,
     "metadata": {},
     "output_type": "execute_result"
    }
   ],
   "source": [
    "s_racc = pd.Series(repeated_acc_scores)\n",
    "s_racc.head(20)"
   ]
  },
  {
   "cell_type": "markdown",
   "metadata": {},
   "source": [
    "Calculate the mean over all values in the Data Frame:"
   ]
  },
  {
   "cell_type": "code",
   "execution_count": 98,
   "metadata": {},
   "outputs": [
    {
     "name": "stdout",
     "output_type": "stream",
     "text": [
      "Overall mean accuracy of k-NN: 0.7340\n",
      "Overall standard deviation in accuracy: 0.0092\n"
     ]
    }
   ],
   "source": [
    "print(\"Overall mean accuracy of k-NN: %.4f\" % s_racc.mean() )\n",
    "print(\"Overall standard deviation in accuracy: %.4f\" % s_racc.std() )"
   ]
  },
  {
   "cell_type": "markdown",
   "metadata": {},
   "source": [
    "After cross validation, the average accuracy is about 73%, which is a little low for prediction."
   ]
  },
  {
   "cell_type": "markdown",
   "metadata": {},
   "source": [
    "#### 2. Support Vector Machines (SVM) classification"
   ]
  },
  {
   "cell_type": "markdown",
   "metadata": {},
   "source": [
    "Using SVM to fit the training data for prediction."
   ]
  },
  {
   "cell_type": "code",
   "execution_count": 99,
   "metadata": {},
   "outputs": [
    {
     "data": {
      "text/plain": [
       "SVC(kernel='linear')"
      ]
     },
     "execution_count": 99,
     "metadata": {},
     "output_type": "execute_result"
    }
   ],
   "source": [
    "svc = SVC(kernel='linear')\n",
    "svc.fit(data_train, target_train)"
   ]
  },
  {
   "cell_type": "markdown",
   "metadata": {},
   "source": [
    "Make predictions for reviews in the testing data."
   ]
  },
  {
   "cell_type": "code",
   "execution_count": 100,
   "metadata": {},
   "outputs": [
    {
     "data": {
      "text/plain": [
       "array(['negative', 'positive', 'positive', ..., 'negative', 'positive',\n",
       "       'positive'], dtype=object)"
      ]
     },
     "execution_count": 100,
     "metadata": {},
     "output_type": "execute_result"
    }
   ],
   "source": [
    "predicted = svc.predict(data_test)\n",
    "predicted"
   ]
  },
  {
   "cell_type": "code",
   "execution_count": 101,
   "metadata": {},
   "outputs": [
    {
     "name": "stdout",
     "output_type": "stream",
     "text": [
      "SVM's Accuracy = 0.8538\n"
     ]
    }
   ],
   "source": [
    "print(\"SVM's Accuracy = %.4f\" % accuracy_score(target_test, predicted))"
   ]
  },
  {
   "cell_type": "markdown",
   "metadata": {},
   "source": [
    "Visualize the confusion matrix to see where the errors lie:"
   ]
  },
  {
   "cell_type": "code",
   "execution_count": 102,
   "metadata": {},
   "outputs": [
    {
     "data": {
      "image/png": "[encoded data removed]",
      "text/plain": [
       "<Figure size 432x288 with 2 Axes>"
      ]
     },
     "metadata": {
      "needs_background": "light"
     },
     "output_type": "display_data"
    }
   ],
   "source": [
    "# calculate the matrix \n",
    "cm = confusion_matrix(target_test, predicted, labels=['positive', 'negative'])\n",
    "# display it graphically\n",
    "cmd = ConfusionMatrixDisplay(cm, display_labels=['positive', 'negative'])\n",
    "cmd.plot();"
   ]
  },
  {
   "cell_type": "markdown",
   "metadata": {},
   "source": [
    "Invoke *classification_report()* function for summarising all evaluation metrics."
   ]
  },
  {
   "cell_type": "code",
   "execution_count": 103,
   "metadata": {},
   "outputs": [
    {
     "name": "stdout",
     "output_type": "stream",
     "text": [
      "SVM scores: \n",
      "\n",
      "              precision    recall  f1-score   support\n",
      "\n",
      "    positive       0.86      0.80      0.83      1364\n",
      "    negative       0.85      0.90      0.87      1687\n",
      "\n",
      "    accuracy                           0.85      3051\n",
      "   macro avg       0.86      0.85      0.85      3051\n",
      "weighted avg       0.85      0.85      0.85      3051\n",
      "\n"
     ]
    }
   ],
   "source": [
    "print(\"SVM scores: \\n\")\n",
    "print(classification_report(target_test, predicted, target_names=['positive', 'negative']))"
   ]
  },
  {
   "cell_type": "markdown",
   "metadata": {},
   "source": [
    "F1 Score is the weighted average of Precision and Recall. Accuracy is preferred when the True Positive and True negative prediction are more important while F1-score is preferred when the False Negatives and False Positives are crucial. Also, F1 takes into account how the data is distributed\n",
    "\n",
    "We can observe that the accuracy of Support Vector Machines is much higher than k-NN.\n",
    "\n",
    "SVM performs well in this review dataset. "
   ]
  },
  {
   "cell_type": "markdown",
   "metadata": {},
   "source": [
    "Using *k-fold cross-validation* to evaluate."
   ]
  },
  {
   "cell_type": "code",
   "execution_count": 104,
   "metadata": {},
   "outputs": [],
   "source": [
    "rkf = RepeatedKFold(n_splits=5, n_repeats=5)\n",
    "# Too long to execute: 8 mins+\n",
    "repeated_acc_scores = cross_val_score(svc, X, target, cv=rkf, scoring=\"accuracy\")"
   ]
  },
  {
   "cell_type": "code",
   "execution_count": 105,
   "metadata": {},
   "outputs": [
    {
     "data": {
      "text/plain": [
       "0     0.859924\n",
       "1     0.863169\n",
       "2     0.865333\n",
       "3     0.852353\n",
       "4     0.866883\n",
       "5     0.869118\n",
       "6     0.863169\n",
       "7     0.865873\n",
       "8     0.846944\n",
       "9     0.858225\n",
       "10    0.862628\n",
       "11    0.862088\n",
       "12    0.864251\n",
       "13    0.868578\n",
       "14    0.864719\n",
       "15    0.869118\n",
       "16    0.863169\n",
       "17    0.862628\n",
       "18    0.859383\n",
       "19    0.854978\n",
       "dtype: float64"
      ]
     },
     "execution_count": 105,
     "metadata": {},
     "output_type": "execute_result"
    }
   ],
   "source": [
    "s_racc = pd.Series(repeated_acc_scores)\n",
    "s_racc.head(20)"
   ]
  },
  {
   "cell_type": "markdown",
   "metadata": {},
   "source": [
    "Calculate the mean over all values in the Data Frame:"
   ]
  },
  {
   "cell_type": "code",
   "execution_count": 106,
   "metadata": {},
   "outputs": [
    {
     "name": "stdout",
     "output_type": "stream",
     "text": [
      "Overall mean accuracy of SVM: 0.8621\n",
      "Overall standard deviation in accuracy: 0.0051\n"
     ]
    }
   ],
   "source": [
    "print(\"Overall mean accuracy of SVM: %.4f\" % s_racc.mean() )\n",
    "print(\"Overall standard deviation in accuracy: %.4f\" % s_racc.std() )"
   ]
  },
  {
   "cell_type": "markdown",
   "metadata": {},
   "source": [
    "After cross validation, the average accuracy value of SVM for review prediction is 86%, which is 13% higher than k-NN classifier.\n",
    "\n",
    "However, executing SCM classification is much lower than k-NN, especially in k-fold. The performance should be considered in advanced for production use."
   ]
  },
  {
   "cell_type": "markdown",
   "metadata": {},
   "source": [
    "### Task 3 Review Helpfulness Classification"
   ]
  },
  {
   "cell_type": "markdown",
   "metadata": {},
   "source": [
    "Similar to review classification, using number of users who think this comment is useful and number of total number of pusers who have seen this review. \n",
    "\n",
    "The partition criteria: if more than 60% of people think this data is useful, it will be marked as \"helpful\", otherwise it will be marked as \"unhelpful\"."
   ]
  },
  {
   "cell_type": "code",
   "execution_count": 107,
   "metadata": {},
   "outputs": [
    {
     "name": "stderr",
     "output_type": "stream",
     "text": [
      "C:\\Users\\Steve\\AppData\\Local\\Temp\\ipykernel_14340\\1261609403.py:2: SettingWithCopyWarning: \n",
      "A value is trying to be set on a copy of a slice from a DataFrame.\n",
      "Try using .loc[row_indexer,col_indexer] = value instead\n",
      "\n",
      "See the caveats in the documentation: https://pandas.pydata.org/pandas-docs/stable/user_guide/indexing.html#returning-a-view-versus-a-copy\n",
      "  df_user['helpful_rate'] = df_user['helpful_user_num'] / df_user['total_user_num']\n"
     ]
    },
    {
     "data": {
      "text/html": [
       "<div>\n",
       "<style scoped>\n",
       "    .dataframe tbody tr th:only-of-type {\n",
       "        vertical-align: middle;\n",
       "    }\n",
       "\n",
       "    .dataframe tbody tr th {\n",
       "        vertical-align: top;\n",
       "    }\n",
       "\n",
       "    .dataframe thead th {\n",
       "        text-align: right;\n",
       "    }\n",
       "</style>\n",
       "<table border=\"1\" class=\"dataframe\">\n",
       "  <thead>\n",
       "    <tr style=\"text-align: right;\">\n",
       "      <th></th>\n",
       "      <th>title</th>\n",
       "      <th>body</th>\n",
       "      <th>rating</th>\n",
       "      <th>helpful_user_num</th>\n",
       "      <th>total_user_num</th>\n",
       "      <th>is_positive</th>\n",
       "      <th>review</th>\n",
       "      <th>is_helpful</th>\n",
       "    </tr>\n",
       "  </thead>\n",
       "  <tbody>\n",
       "    <tr>\n",
       "      <th>0</th>\n",
       "      <td>The herbs were great...but the cherry tomatoes...</td>\n",
       "      <td>The herb kit that came with my Aerogarden was ...</td>\n",
       "      <td>2</td>\n",
       "      <td>15</td>\n",
       "      <td>17</td>\n",
       "      <td>negative</td>\n",
       "      <td>the herbs were greatbut the cherry tomatoesnot...</td>\n",
       "      <td>helpful</td>\n",
       "    </tr>\n",
       "    <tr>\n",
       "      <th>1</th>\n",
       "      <td>Even more useful than regular parchment paper</td>\n",
       "      <td>I originally bought this just because it was c...</td>\n",
       "      <td>5</td>\n",
       "      <td>19</td>\n",
       "      <td>19</td>\n",
       "      <td>positive</td>\n",
       "      <td>even more useful than regular parchment paperi...</td>\n",
       "      <td>helpful</td>\n",
       "    </tr>\n",
       "    <tr>\n",
       "      <th>2</th>\n",
       "      <td>Shake it before you bake it</td>\n",
       "      <td>If you do it in reverse (bake before shaking),...</td>\n",
       "      <td>2</td>\n",
       "      <td>2</td>\n",
       "      <td>13</td>\n",
       "      <td>negative</td>\n",
       "      <td>shake it before you bake itif you do it in rev...</td>\n",
       "      <td>unhelpful</td>\n",
       "    </tr>\n",
       "    <tr>\n",
       "      <th>3</th>\n",
       "      <td>Not what the picture describes</td>\n",
       "      <td>I bought this steak for my father in law for C...</td>\n",
       "      <td>2</td>\n",
       "      <td>7</td>\n",
       "      <td>14</td>\n",
       "      <td>negative</td>\n",
       "      <td>not what the picture describesi bought this st...</td>\n",
       "      <td>unhelpful</td>\n",
       "    </tr>\n",
       "    <tr>\n",
       "      <th>4</th>\n",
       "      <td>What a ripe off - GIVE ME A BREAK</td>\n",
       "      <td>Sorry but I had these noodles and they are no ...</td>\n",
       "      <td>2</td>\n",
       "      <td>10</td>\n",
       "      <td>34</td>\n",
       "      <td>negative</td>\n",
       "      <td>what a ripe off  give me a breaksorry but i ha...</td>\n",
       "      <td>unhelpful</td>\n",
       "    </tr>\n",
       "  </tbody>\n",
       "</table>\n",
       "</div>"
      ],
      "text/plain": [
       "                                               title  \\\n",
       "0  The herbs were great...but the cherry tomatoes...   \n",
       "1      Even more useful than regular parchment paper   \n",
       "2                        Shake it before you bake it   \n",
       "3                     Not what the picture describes   \n",
       "4                  What a ripe off - GIVE ME A BREAK   \n",
       "\n",
       "                                                body  rating  \\\n",
       "0  The herb kit that came with my Aerogarden was ...       2   \n",
       "1  I originally bought this just because it was c...       5   \n",
       "2  If you do it in reverse (bake before shaking),...       2   \n",
       "3  I bought this steak for my father in law for C...       2   \n",
       "4  Sorry but I had these noodles and they are no ...       2   \n",
       "\n",
       "   helpful_user_num  total_user_num is_positive  \\\n",
       "0                15              17    negative   \n",
       "1                19              19    positive   \n",
       "2                 2              13    negative   \n",
       "3                 7              14    negative   \n",
       "4                10              34    negative   \n",
       "\n",
       "                                              review is_helpful  \n",
       "0  the herbs were greatbut the cherry tomatoesnot...    helpful  \n",
       "1  even more useful than regular parchment paperi...    helpful  \n",
       "2  shake it before you bake itif you do it in rev...  unhelpful  \n",
       "3  not what the picture describesi bought this st...  unhelpful  \n",
       "4  what a ripe off  give me a breaksorry but i ha...  unhelpful  "
      ]
     },
     "execution_count": 107,
     "metadata": {},
     "output_type": "execute_result"
    }
   ],
   "source": [
    "df_user = df[['helpful_user_num', 'total_user_num']]\n",
    "df_user['helpful_rate'] = df_user['helpful_user_num'] / df_user['total_user_num']\n",
    "helpful_label = []\n",
    "for rate in df_user['helpful_rate']:\n",
    "    if rate >= 0.6:\n",
    "        helpful_label.append('helpful')\n",
    "    else:\n",
    "        helpful_label.append('unhelpful')\n",
    "df['is_helpful'] = helpful_label\n",
    "df.head(5)"
   ]
  },
  {
   "cell_type": "markdown",
   "metadata": {},
   "source": [
    "Create a new dataframe to store review and helpful tag:"
   ]
  },
  {
   "cell_type": "code",
   "execution_count": 108,
   "metadata": {},
   "outputs": [
    {
     "data": {
      "text/html": [
       "<div>\n",
       "<style scoped>\n",
       "    .dataframe tbody tr th:only-of-type {\n",
       "        vertical-align: middle;\n",
       "    }\n",
       "\n",
       "    .dataframe tbody tr th {\n",
       "        vertical-align: top;\n",
       "    }\n",
       "\n",
       "    .dataframe thead th {\n",
       "        text-align: right;\n",
       "    }\n",
       "</style>\n",
       "<table border=\"1\" class=\"dataframe\">\n",
       "  <thead>\n",
       "    <tr style=\"text-align: right;\">\n",
       "      <th></th>\n",
       "      <th>review</th>\n",
       "      <th>is_helpful</th>\n",
       "    </tr>\n",
       "  </thead>\n",
       "  <tbody>\n",
       "    <tr>\n",
       "      <th>0</th>\n",
       "      <td>the herbs were greatbut the cherry tomatoesnot...</td>\n",
       "      <td>helpful</td>\n",
       "    </tr>\n",
       "    <tr>\n",
       "      <th>1</th>\n",
       "      <td>even more useful than regular parchment paperi...</td>\n",
       "      <td>helpful</td>\n",
       "    </tr>\n",
       "    <tr>\n",
       "      <th>2</th>\n",
       "      <td>shake it before you bake itif you do it in rev...</td>\n",
       "      <td>unhelpful</td>\n",
       "    </tr>\n",
       "    <tr>\n",
       "      <th>3</th>\n",
       "      <td>not what the picture describesi bought this st...</td>\n",
       "      <td>unhelpful</td>\n",
       "    </tr>\n",
       "    <tr>\n",
       "      <th>4</th>\n",
       "      <td>what a ripe off  give me a breaksorry but i ha...</td>\n",
       "      <td>unhelpful</td>\n",
       "    </tr>\n",
       "  </tbody>\n",
       "</table>\n",
       "</div>"
      ],
      "text/plain": [
       "                                              review is_helpful\n",
       "0  the herbs were greatbut the cherry tomatoesnot...    helpful\n",
       "1  even more useful than regular parchment paperi...    helpful\n",
       "2  shake it before you bake itif you do it in rev...  unhelpful\n",
       "3  not what the picture describesi bought this st...  unhelpful\n",
       "4  what a ripe off  give me a breaksorry but i ha...  unhelpful"
      ]
     },
     "execution_count": 108,
     "metadata": {},
     "output_type": "execute_result"
    }
   ],
   "source": [
    "df_helpful = df[['review', 'is_helpful']].copy()\n",
    "df_helpful.head(5)"
   ]
  },
  {
   "cell_type": "markdown",
   "metadata": {},
   "source": [
    "Set the data and target for the dataset.\n",
    "\n",
    "Use bag of words (BOW) method: TF-IDF , produce vector representations of the documents\n",
    "\n",
    "Split the dataset to a training set and testing set (33%) for further evaluation."
   ]
  },
  {
   "cell_type": "code",
   "execution_count": 109,
   "metadata": {},
   "outputs": [
    {
     "name": "stdout",
     "output_type": "stream",
     "text": [
      "Training set has 6193 examples\n",
      "Test set has 3051 examples\n"
     ]
    }
   ],
   "source": [
    "documents = df_helpful['review']\n",
    "target = df_helpful['is_helpful']\n",
    "target_categories = [\"helpful\", \"unhelpful\"]\n",
    "\n",
    "ectorizer = TfidfVectorizer(stop_words=\"english\", tokenizer=lemma_tokenizer)\n",
    "X = vectorizer.fit_transform(documents)\n",
    "# Class labels for all documents\n",
    "data_train, data_test, target_train, target_test = train_test_split(X, target, test_size=0.33)\n",
    "print(\"Training set has %d examples\" % data_train.shape[0] )\n",
    "print(\"Test set has %d examples\" % data_test.shape[0] )"
   ]
  },
  {
   "cell_type": "markdown",
   "metadata": {},
   "source": [
    "#### 1. k-NN classification"
   ]
  },
  {
   "cell_type": "markdown",
   "metadata": {},
   "source": [
    "Prepare the k-NN classification model, for 3 nearest neighbours in this case:"
   ]
  },
  {
   "cell_type": "code",
   "execution_count": 110,
   "metadata": {},
   "outputs": [
    {
     "data": {
      "text/plain": [
       "KNeighborsClassifier(n_neighbors=3)"
      ]
     },
     "execution_count": 110,
     "metadata": {},
     "output_type": "execute_result"
    }
   ],
   "source": [
    "model = KNeighborsClassifier(n_neighbors=3)\n",
    "model.fit(data_train, target_train)"
   ]
  },
  {
   "cell_type": "markdown",
   "metadata": {},
   "source": [
    "Make predictions for helpfulness in the test set."
   ]
  },
  {
   "cell_type": "code",
   "execution_count": 111,
   "metadata": {},
   "outputs": [
    {
     "data": {
      "text/plain": [
       "array(['helpful', 'helpful', 'helpful', ..., 'helpful', 'helpful',\n",
       "       'helpful'], dtype=object)"
      ]
     },
     "execution_count": 111,
     "metadata": {},
     "output_type": "execute_result"
    }
   ],
   "source": [
    "predicted = model.predict(data_test)\n",
    "predicted"
   ]
  },
  {
   "cell_type": "code",
   "execution_count": 112,
   "metadata": {},
   "outputs": [
    {
     "name": "stdout",
     "output_type": "stream",
     "text": [
      "k-NN's Accuracy of Helpfullness = 0.7955\n"
     ]
    }
   ],
   "source": [
    "print(\"k-NN's Accuracy of Helpfullness = %.4f\" % accuracy_score(target_test, predicted))"
   ]
  },
  {
   "cell_type": "markdown",
   "metadata": {},
   "source": [
    "Visualize the confusion matrix to see where the errors lie:"
   ]
  },
  {
   "cell_type": "code",
   "execution_count": 113,
   "metadata": {},
   "outputs": [
    {
     "data": {
      "image/png": "[encoded data removed]",
      "text/plain": [
       "<Figure size 432x288 with 2 Axes>"
      ]
     },
     "metadata": {
      "needs_background": "light"
     },
     "output_type": "display_data"
    }
   ],
   "source": [
    "# calculate the matrix \n",
    "cm = confusion_matrix(target_test, predicted, labels=target_categories)\n",
    "# display it graphically\n",
    "cmd = ConfusionMatrixDisplay(cm, display_labels=target_categories)\n",
    "cmd.plot();"
   ]
  },
  {
   "cell_type": "markdown",
   "metadata": {},
   "source": [
    "Invoke *classification_report()* function for summarising all evaluation metrics."
   ]
  },
  {
   "cell_type": "code",
   "execution_count": 114,
   "metadata": {},
   "outputs": [
    {
     "name": "stdout",
     "output_type": "stream",
     "text": [
      "K-NN scores: \n",
      "\n",
      "              precision    recall  f1-score   support\n",
      "\n",
      "     helpful       0.83      0.92      0.88      2384\n",
      "   unhelpful       0.55      0.34      0.42       667\n",
      "\n",
      "    accuracy                           0.80      3051\n",
      "   macro avg       0.69      0.63      0.65      3051\n",
      "weighted avg       0.77      0.80      0.78      3051\n",
      "\n"
     ]
    }
   ],
   "source": [
    "print(\"K-NN scores: \\n\")\n",
    "print(classification_report(target_test, predicted, target_names=target_categories))"
   ]
  },
  {
   "cell_type": "markdown",
   "metadata": {},
   "source": [
    "The accuracy value is higher than result of predicting review (73%)."
   ]
  },
  {
   "cell_type": "markdown",
   "metadata": {},
   "source": [
    "Using *k-fold cross-validation* to evaluate."
   ]
  },
  {
   "cell_type": "code",
   "execution_count": 115,
   "metadata": {},
   "outputs": [],
   "source": [
    "# note that we pass RepeatedKFold as the parameter cv\n",
    "rkf = RepeatedKFold(n_splits=5, n_repeats=10)\n",
    "repeated_acc_scores = cross_val_score(model, X, target, cv=rkf, scoring=\"accuracy\")"
   ]
  },
  {
   "cell_type": "code",
   "execution_count": 116,
   "metadata": {},
   "outputs": [
    {
     "data": {
      "text/plain": [
       "0     0.803678\n",
       "1     0.812331\n",
       "2     0.815035\n",
       "3     0.812872\n",
       "4     0.816017\n",
       "5     0.811790\n",
       "6     0.810708\n",
       "7     0.804759\n",
       "8     0.805841\n",
       "9     0.799784\n",
       "10    0.819362\n",
       "11    0.805300\n",
       "12    0.820443\n",
       "13    0.804218\n",
       "14    0.805736\n",
       "15    0.828015\n",
       "16    0.796106\n",
       "17    0.803678\n",
       "18    0.817198\n",
       "19    0.817100\n",
       "dtype: float64"
      ]
     },
     "execution_count": 116,
     "metadata": {},
     "output_type": "execute_result"
    }
   ],
   "source": [
    "s_racc = pd.Series(repeated_acc_scores)\n",
    "s_racc.head(20)"
   ]
  },
  {
   "cell_type": "markdown",
   "metadata": {},
   "source": [
    "Calculate the mean over all values in the Data Frame:"
   ]
  },
  {
   "cell_type": "code",
   "execution_count": 117,
   "metadata": {},
   "outputs": [
    {
     "name": "stdout",
     "output_type": "stream",
     "text": [
      "Overall mean accuracy of k-NN: 0.8105\n",
      "Overall standard deviation in accuracy: 0.0089\n"
     ]
    }
   ],
   "source": [
    "print(\"Overall mean accuracy of k-NN: %.4f\" % s_racc.mean() )\n",
    "print(\"Overall standard deviation in accuracy: %.4f\" % s_racc.std() )"
   ]
  },
  {
   "cell_type": "markdown",
   "metadata": {},
   "source": [
    "Compared with predicting review, the result of predicing of helpfulness is higher, which also results in lower standard deviation."
   ]
  },
  {
   "cell_type": "markdown",
   "metadata": {},
   "source": [
    "#### 2. Support Vector Machines (SVM) classification"
   ]
  },
  {
   "cell_type": "code",
   "execution_count": 118,
   "metadata": {},
   "outputs": [
    {
     "data": {
      "text/plain": [
       "SVC(kernel='linear')"
      ]
     },
     "execution_count": 118,
     "metadata": {},
     "output_type": "execute_result"
    }
   ],
   "source": [
    "svc = SVC(kernel='linear')\n",
    "svc.fit(data_train, target_train)"
   ]
  },
  {
   "cell_type": "markdown",
   "metadata": {},
   "source": [
    "Make predictions for reviews in the test set."
   ]
  },
  {
   "cell_type": "code",
   "execution_count": 119,
   "metadata": {},
   "outputs": [
    {
     "data": {
      "text/plain": [
       "array(['helpful', 'helpful', 'helpful', ..., 'helpful', 'helpful',\n",
       "       'unhelpful'], dtype=object)"
      ]
     },
     "execution_count": 119,
     "metadata": {},
     "output_type": "execute_result"
    }
   ],
   "source": [
    "predicted = svc.predict(data_test)\n",
    "predicted"
   ]
  },
  {
   "cell_type": "code",
   "execution_count": 120,
   "metadata": {},
   "outputs": [
    {
     "name": "stdout",
     "output_type": "stream",
     "text": [
      "SVM's Accuracy = 0.8315\n"
     ]
    }
   ],
   "source": [
    "print(\"SVM's Accuracy = %.4f\" % accuracy_score(target_test, predicted))"
   ]
  },
  {
   "cell_type": "markdown",
   "metadata": {},
   "source": [
    "Visualize the confusion matrix to see where the errors lie:"
   ]
  },
  {
   "cell_type": "code",
   "execution_count": 121,
   "metadata": {},
   "outputs": [
    {
     "data": {
      "image/png": "[encoded data removed]",
      "text/plain": [
       "<Figure size 432x288 with 2 Axes>"
      ]
     },
     "metadata": {
      "needs_background": "light"
     },
     "output_type": "display_data"
    }
   ],
   "source": [
    "# calculate the matrix \n",
    "cm = confusion_matrix(target_test, predicted, labels=target_categories)\n",
    "# display it graphically\n",
    "cmd = ConfusionMatrixDisplay(cm, display_labels=target_categories)\n",
    "cmd.plot();"
   ]
  },
  {
   "cell_type": "markdown",
   "metadata": {},
   "source": [
    "Invoke *classification_report()* function for summarising all evaluation metrics."
   ]
  },
  {
   "cell_type": "code",
   "execution_count": 122,
   "metadata": {},
   "outputs": [
    {
     "name": "stdout",
     "output_type": "stream",
     "text": [
      "SVM scores: \n",
      "\n",
      "              precision    recall  f1-score   support\n",
      "\n",
      "    positive       0.85      0.96      0.90      2384\n",
      "    negative       0.72      0.37      0.49       667\n",
      "\n",
      "    accuracy                           0.83      3051\n",
      "   macro avg       0.78      0.67      0.70      3051\n",
      "weighted avg       0.82      0.83      0.81      3051\n",
      "\n"
     ]
    }
   ],
   "source": [
    "print(\"SVM scores: \\n\")\n",
    "print(classification_report(target_test, predicted, target_names=['positive', 'negative']))"
   ]
  },
  {
   "cell_type": "markdown",
   "metadata": {},
   "source": [
    "We can see that the accuracy of Support Vector Machines is higher than k-NN but it is close (81% for k-NN).\n"
   ]
  },
  {
   "cell_type": "markdown",
   "metadata": {},
   "source": [
    "Using *k-fold cross-validation* to evaluate."
   ]
  },
  {
   "cell_type": "code",
   "execution_count": 123,
   "metadata": {},
   "outputs": [],
   "source": [
    "rkf = RepeatedKFold(n_splits=5, n_repeats=5)\n",
    "# Too long to execute: 8 mins+\n",
    "repeated_acc_scores = cross_val_score(svc, X, target, cv=rkf, scoring=\"accuracy\")"
   ]
  },
  {
   "cell_type": "code",
   "execution_count": 124,
   "metadata": {},
   "outputs": [
    {
     "data": {
      "text/plain": [
       "0     0.843699\n",
       "1     0.851271\n",
       "2     0.836128\n",
       "3     0.833423\n",
       "4     0.824134\n",
       "5     0.844240\n",
       "6     0.850189\n",
       "7     0.838832\n",
       "8     0.826933\n",
       "9     0.833333\n",
       "10    0.844240\n",
       "11    0.843158\n",
       "12    0.844240\n",
       "13    0.832342\n",
       "14    0.849567\n",
       "15    0.825311\n",
       "16    0.839913\n",
       "17    0.840995\n",
       "18    0.838832\n",
       "19    0.852273\n",
       "dtype: float64"
      ]
     },
     "execution_count": 124,
     "metadata": {},
     "output_type": "execute_result"
    }
   ],
   "source": [
    "s_racc = pd.Series(repeated_acc_scores)\n",
    "s_racc.head(20)"
   ]
  },
  {
   "cell_type": "markdown",
   "metadata": {},
   "source": [
    "Calculate the mean over all values in the Data Frame:"
   ]
  },
  {
   "cell_type": "code",
   "execution_count": 125,
   "metadata": {},
   "outputs": [
    {
     "name": "stdout",
     "output_type": "stream",
     "text": [
      "Overall mean accuracy of SVM: 0.8404\n",
      "Overall standard deviation in accuracy: 0.0084\n"
     ]
    }
   ],
   "source": [
    "print(\"Overall mean accuracy of SVM: %.4f\" % s_racc.mean() )\n",
    "print(\"Overall standard deviation in accuracy: %.4f\" % s_racc.std() )"
   ]
  },
  {
   "cell_type": "markdown",
   "metadata": {},
   "source": [
    "From the result, we can observe that, the accuracy of SVM classifier is higher than k-NN, and the F1-score of SVC is also higher. Overall, SVC performs much better  than k-NN in text classification. However, the performance of k-NN is much better than SVC (10 seconds and 10 mins for cross validation).\n",
    "\n",
    "Since different dataset contains their own feature, for practical use, maybe more classifier should be tried and get better results."
   ]
  }
 ],
 "metadata": {
  "kernelspec": {
   "display_name": "Python 3.9.7 ('comp47670')",
   "language": "python",
   "name": "python3"
  },
  "language_info": {
   "codemirror_mode": {
    "name": "ipython",
    "version": 3
   },
   "file_extension": ".py",
   "mimetype": "text/x-python",
   "name": "python",
   "nbconvert_exporter": "python",
   "pygments_lexer": "ipython3",
   "version": "3.9.12"
  },
  "orig_nbformat": 4,
  "vscode": {
   "interpreter": {
    "hash": "934230a5e25259e6f838a3b0be03529e5a61917a11adaf40705993f4a1dc1d82"
   }
  }
 },
 "nbformat": 4,
 "nbformat_minor": 2
}
